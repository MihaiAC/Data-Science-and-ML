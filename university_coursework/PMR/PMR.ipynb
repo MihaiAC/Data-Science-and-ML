{
 "cells": [
  {
   "cell_type": "code",
   "execution_count": 50,
   "metadata": {
    "collapsed": true
   },
   "outputs": [],
   "source": [
    "import numpy as np\n",
    "import matplotlib.pyplot as plt"
   ]
  },
  {
   "cell_type": "code",
   "execution_count": 2,
   "metadata": {
    "collapsed": true
   },
   "outputs": [],
   "source": [
    "# Defining p(s1) (phi 1):\n",
    "phi1 = np.array([0.01,0.01,0.08,0.2,0.7])\n",
    "phi2 = np.array([0.02,0.02,0.06,0.3,0.6])\n",
    "phi3 = np.array([0.2,0.2,0.2,0.2,0.2])"
   ]
  },
  {
   "cell_type": "code",
   "execution_count": 3,
   "metadata": {},
   "outputs": [
    {
     "data": {
      "text/plain": [
       "array([[ 0.5   ,  0.4656,  0.4   ,  0.272 ,  0.0504],\n",
       "       [ 0.5344,  0.5   ,  0.4656,  0.4   ,  0.272 ],\n",
       "       [ 0.6   ,  0.5344,  0.5   ,  0.4656,  0.4   ],\n",
       "       [ 0.728 ,  0.6   ,  0.5344,  0.5   ,  0.4656],\n",
       "       [ 0.9496,  0.728 ,  0.6   ,  0.5344,  0.5   ]])"
      ]
     },
     "execution_count": 3,
     "metadata": {},
     "output_type": "execute_result"
    }
   ],
   "source": [
    "# Define prob table for P(r(k) = 1 | sbk, swk)\n",
    "# sbk - row\n",
    "# swk - column\n",
    "def calc_prob_rk(sbk, swk):\n",
    "    return 0.0052 * (sbk - swk)**3 + 0.0292 * (sbk - swk) + 0.5\n",
    "\n",
    "probDist_rk = np.zeros((5,5))\n",
    "for i in range(5):\n",
    "    for j in range(5):\n",
    "        probDist_rk[i][j] = calc_prob_rk(i+1,j+1)\n",
    "\n",
    "probDist_rk"
   ]
  },
  {
   "cell_type": "code",
   "execution_count": 4,
   "metadata": {},
   "outputs": [
    {
     "data": {
      "text/plain": [
       "12.5"
      ]
     },
     "execution_count": 4,
     "metadata": {},
     "output_type": "execute_result"
    }
   ],
   "source": [
    "probDist_rk.sum()"
   ]
  },
  {
   "cell_type": "code",
   "execution_count": 26,
   "metadata": {},
   "outputs": [
    {
     "data": {
      "text/plain": [
       "array([[ 0.09729325,  0.26673664,  0.36353519,  0.41479123,  0.44760707],\n",
       "       [ 0.08008064,  0.2115047 ,  0.2865536 ,  0.326506  ,  0.35264054],\n",
       "       [ 0.07040719,  0.1800816 ,  0.24265149,  0.2760736 ,  0.29830464],\n",
       "       [ 0.06417523,  0.162546  ,  0.2185856 ,  0.24845714,  0.26832371],\n",
       "       [ 0.05728707,  0.14897654,  0.20111264,  0.22861971,  0.24642209]])"
      ]
     },
     "execution_count": 26,
     "metadata": {},
     "output_type": "execute_result"
    }
   ],
   "source": [
    "# Table for factor at 2e; rows -> s2, cols -> s3.\n",
    "phi1_s2s3 = np.zeros((5,5))\n",
    "for i in range(5):\n",
    "    aux = np.matmul(probDist_rk[i].reshape((5,1)),probDist_rk[:,i].reshape((1,5))) * phi1[i]\n",
    "    phi1_s2s3 = phi1_s2s3 + aux\n",
    "phi1_s2s3"
   ]
  },
  {
   "cell_type": "code",
   "execution_count": 6,
   "metadata": {},
   "outputs": [
    {
     "data": {
      "text/plain": [
       "array([[ 0.09729325,  0.26673664,  0.36353519,  0.41479123,  0.44760707],\n",
       "       [ 0.08008064,  0.2115047 ,  0.2865536 ,  0.326506  ,  0.35264054],\n",
       "       [ 0.07040719,  0.1800816 ,  0.24265149,  0.2760736 ,  0.29830464],\n",
       "       [ 0.06417523,  0.162546  ,  0.2185856 ,  0.24845714,  0.26832371],\n",
       "       [ 0.05728707,  0.14897654,  0.20111264,  0.22861971,  0.24642209]])"
      ]
     },
     "execution_count": 6,
     "metadata": {},
     "output_type": "execute_result"
    }
   ],
   "source": [
    "phi1_s2s3 = np.zeros((5,5))\n",
    "for s2 in range(5):\n",
    "    for s3 in range(5):\n",
    "        total = 0\n",
    "        for s1 in range(5):\n",
    "            total += calc_prob_rk(s1,s2) * calc_prob_rk(s3,s1) * phi1[s1]\n",
    "        phi1_s2s3[s2][s3] = total\n",
    "phi1_s2s3"
   ]
  },
  {
   "cell_type": "markdown",
   "metadata": {},
   "source": [
    "<h1>Q2:f</h1>"
   ]
  },
  {
   "cell_type": "markdown",
   "metadata": {
    "collapsed": true
   },
   "source": [
    "<h2>Factor graph for phi2_s2s3 and s2 is black player</h2>"
   ]
  },
  {
   "cell_type": "code",
   "execution_count": 35,
   "metadata": {},
   "outputs": [
    {
     "data": {
      "text/plain": [
       "array([ 0.01037748,  0.05381518,  0.09350372,  0.11994523,  0.14131865])"
      ]
     },
     "execution_count": 35,
     "metadata": {},
     "output_type": "execute_result"
    }
   ],
   "source": [
    "posterior_s3 = np.zeros(5)\n",
    "for i in range(5):\n",
    "    aux = np.multiply((1 - probDist_rk[i]),(phi1_s2s3[i])) * phi2[i]\n",
    "    posterior_s3 += aux\n",
    "posterior_s3"
   ]
  },
  {
   "cell_type": "code",
   "execution_count": 36,
   "metadata": {},
   "outputs": [
    {
     "name": "stdout",
     "output_type": "stream",
     "text": [
      "psi1: [ 1.  1.  1.  1.  1.]\n",
      "psi2: [ 0.07343317  0.38080733  0.66165168  0.84875726  1.        ]\n"
     ]
    }
   ],
   "source": [
    "psi1 = phi3/np.max(phi3)\n",
    "psi2 = posterior_s3/np.max(posterior_s3)\n",
    "\n",
    "print('psi1: ' + str(psi1))\n",
    "print('psi2: ' + str(psi2))"
   ]
  },
  {
   "cell_type": "markdown",
   "metadata": {},
   "source": [
    "** 2g) **"
   ]
  },
  {
   "cell_type": "code",
   "execution_count": 48,
   "metadata": {},
   "outputs": [
    {
     "data": {
      "text/plain": [
       "array([ 0.0247696 ,  0.12844936,  0.22318041,  0.28629262,  0.33730801])"
      ]
     },
     "execution_count": 48,
     "metadata": {},
     "output_type": "execute_result"
    }
   ],
   "source": [
    "prob_s3 = np.multiply(psi1,psi2)\n",
    "prob_s3 = prob_s3/(np.sum(prob_s3))\n",
    "prob_s3"
   ]
  },
  {
   "cell_type": "code",
   "execution_count": 49,
   "metadata": {},
   "outputs": [
    {
     "data": {
      "image/png": "[encoded data removed]",
      "text/plain": [
       "<matplotlib.figure.Figure at 0x1ddf6272710>"
      ]
     },
     "metadata": {},
     "output_type": "display_data"
    }
   ],
   "source": [
    "skills = np.arange(1,6)\n",
    "plt.scatter(skills,phi3,label='Prior probability',color='g')\n",
    "plt.scatter(skills,prob_s3, label='Posterior probability',color='r')\n",
    "plt.legend()\n",
    "plt.show()"
   ]
  }
 ],
 "metadata": {
  "kernelspec": {
   "display_name": "Python 3",
   "language": "python",
   "name": "python3"
  },
  "language_info": {
   "codemirror_mode": {
    "name": "ipython",
    "version": 3
   },
   "file_extension": ".py",
   "mimetype": "text/x-python",
   "name": "python",
   "nbconvert_exporter": "python",
   "pygments_lexer": "ipython3",
   "version": "3.6.3"
  }
 },
 "nbformat": 4,
 "nbformat_minor": 2
}
